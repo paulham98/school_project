{
 "cells": [
  {
   "cell_type": "code",
   "execution_count": 1,
   "metadata": {},
   "outputs": [],
   "source": [
    "import random"
   ]
  },
  {
   "cell_type": "code",
   "execution_count": 2,
   "metadata": {},
   "outputs": [],
   "source": [
    "board = [' ', ' ', ' ', \n",
    "        ' ', ' ', ' ', \n",
    "        ' ', ' ', ' ']\n",
    "\n",
    "def print_board():\n",
    "    print(\" \", board[0], '|', board[1], '|', board[2])\n",
    "    print(\"----|---|----\")\n",
    "    print(\" \", board[3], '|', board[4], '|', board[5])\n",
    "    print(\"----|---|----\")\n",
    "    print(\" \", board[6], '|', board[7], '|', board[8])"
   ]
  },
  {
   "cell_type": "code",
   "execution_count": 3,
   "metadata": {
    "scrolled": true
   },
   "outputs": [],
   "source": [
    "def is_valid(board,x,y):\n",
    "    if(x > 2 or x < 0 or y > 2 or y < 0):\n",
    "        print(\"wrong pos\")\n",
    "        return False\n",
    "    elif(board[3*x + y] != \" \"):\n",
    "        print(\"can't put here\")\n",
    "        return False\n",
    "    return True"
   ]
  },
  {
   "cell_type": "code",
   "execution_count": 4,
   "metadata": {},
   "outputs": [],
   "source": [
    "def is_win(board, mark):\n",
    "    for r in range(3):\n",
    "        if(board[3*r] == mark and board[3*r + 1] == mark and board[3*r +2] == mark) or\\\n",
    "            (board[r] == mark and board[r + 3] == mark and board[r+6] == mark):\n",
    "            return True\n",
    "    if (board[0] == mark and board[4] == mark and board[8] == mark) or \\\n",
    "        (board[2] == mark and board[4] == mark and board[6] == mark):\n",
    "        return True\n",
    "    else:\n",
    "        return False"
   ]
  },
  {
   "cell_type": "code",
   "execution_count": 5,
   "metadata": {},
   "outputs": [],
   "source": [
    "def is_full(board):\n",
    "    full = True\n",
    "    for mark in board:\n",
    "        if mark == \" \":\n",
    "            full = False\n",
    "            break\n",
    "    return full"
   ]
  },
  {
   "cell_type": "code",
   "execution_count": 10,
   "metadata": {},
   "outputs": [],
   "source": [
    "def run_game():\n",
    "    play = True\n",
    "    turn = 0\n",
    "    print_board()\n",
    "    \n",
    "    while play:\n",
    "        if turn % 2 == 0: #human first\n",
    "            x = int(input(\"enter pos x\"))\n",
    "            y = int(input(\"enter pos y\"))\n",
    "            if is_valid(board,x,y):\n",
    "                board[3*x + y] = \"x\"\n",
    "            \n",
    "            if is_win(board,\"x\"):\n",
    "                print(\"human win 'X'\")\n",
    "                play = False\n",
    "        \n",
    "        else: #computer\n",
    "            while(1):\n",
    "                x = random.randrange(0,3)\n",
    "                y = random.randrange(0,3)\n",
    "                print(x,y)\n",
    "                if is_valid(board,x,y):\n",
    "                    board[3*x +y] = \"O\"\n",
    "                    break;\n",
    "            if is_win(board, \"O\"):\n",
    "                print(\"computer win 'O'\")\n",
    "                play = False\n",
    "                    \n",
    "        if is_full(board):\n",
    "            print(\"Draw\")\n",
    "            play = False\n",
    "            \n",
    "        print_board()\n",
    "        turn += 1\n",
    "            "
   ]
  },
  {
   "cell_type": "code",
   "execution_count": null,
   "metadata": {},
   "outputs": [
    {
     "name": "stdout",
     "output_type": "stream",
     "text": [
      "    |   |  \n",
      "----|---|----\n",
      "    |   |  \n",
      "----|---|----\n",
      "    |   |  \n"
     ]
    }
   ],
   "source": [
    "run_game()"
   ]
  },
  {
   "cell_type": "code",
   "execution_count": null,
   "metadata": {},
   "outputs": [],
   "source": []
  }
 ],
 "metadata": {
  "kernelspec": {
   "display_name": "Python [conda env:ssu]",
   "language": "python",
   "name": "conda-env-ssu-py"
  },
  "language_info": {
   "codemirror_mode": {
    "name": "ipython",
    "version": 3
   },
   "file_extension": ".py",
   "mimetype": "text/x-python",
   "name": "python",
   "nbconvert_exporter": "python",
   "pygments_lexer": "ipython3",
   "version": "3.6.13"
  }
 },
 "nbformat": 4,
 "nbformat_minor": 4
}
