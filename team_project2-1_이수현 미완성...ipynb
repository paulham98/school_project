{
 "cells": [
  {
   "cell_type": "code",
   "execution_count": 1,
   "metadata": {},
   "outputs": [],
   "source": [
    "class Puzzle:\n",
    "    def __init__(self, board, goal, moves=0):\n",
    "        self.board = board\n",
    "        self.moves = moves\n",
    "        self.goal = goal\n",
    "        \n",
    "    def exchange(self, id1, id2):\n",
    "        new_board = self.board\n",
    "        new_board[id1], new_board[id2] = new_board[id2], new_board[id1]\n",
    "        return(Puzzle(new_board, self.goal, self.moves))\n",
    "        \n",
    "    def expand(self):\n",
    "        self.moves += 1\n",
    "        result = []\n",
    "        pos = self.board.index(0)\n",
    "        if pos not in (0,1,2):\n",
    "            result.append(self.exchange(pos, pos-3))\n",
    "        if pos not in (0,3,6):\n",
    "            result.append(self.exchange(pos, pos-1))\n",
    "        if pos not in (2,5,8):\n",
    "            result.append(self.exchange(pos, pos+1))\n",
    "        if pos not in (6,7,8):\n",
    "            result.append(self.exchange(pos, pos+3))\n",
    "        return result\n",
    "        \n",
    "    def f(self):\n",
    "        return self.h() + self.moves\n",
    "    \n",
    "#     def h(self): #휴리스틱\n",
    "#         cnt = 0\n",
    "#         for i in range(9):\n",
    "#             if board[i] != goal[i]:\n",
    "#                 cnt += 1\n",
    "#         return cnt\n",
    "    \n",
    "    def h(self):\n",
    "        result = 0\n",
    "        for n in range(9):\n",
    "            piece = self.goal[n]\n",
    "            goal_x = n // 3\n",
    "            goal_y = n - goal_x * 3\n",
    "            board_x = self.board.index(piece) // 3\n",
    "            board_y = self.board.index(piece) - board_x * 3\n",
    "            result += abs(goal_x - board_x) + abs(goal_y - board_y)\n",
    "        return result\n",
    "            \n",
    "    \n",
    "    def __eq__(self, other):\n",
    "        return self.board == other.board"
   ]
  },
  {
   "cell_type": "code",
   "execution_count": 2,
   "metadata": {},
   "outputs": [],
   "source": [
    "board = [2, 8, 3, \n",
    "          1, 6, 4, \n",
    "          7, 0, 5]\n",
    "\n",
    "goal = [1, 2, 3, \n",
    "        8, 0, 4, \n",
    "        7, 6, 5]\n",
    "\n",
    "open_queue = []\n",
    "open_queue.append(Puzzle(board, goal))\n",
    "closed_queue = []\n"
   ]
  },
  {
   "cell_type": "code",
   "execution_count": 3,
   "metadata": {},
   "outputs": [
    {
     "ename": "NameError",
     "evalue": "name 'state' is not defined",
     "output_type": "error",
     "traceback": [
      "\u001b[1;31m---------------------------------------------------------------------------\u001b[0m",
      "\u001b[1;31mNameError\u001b[0m                                 Traceback (most recent call last)",
      "\u001b[1;32m<ipython-input-3-c12d160d3d4f>\u001b[0m in \u001b[0;36m<module>\u001b[1;34m\u001b[0m\n\u001b[0;32m      9\u001b[0m     \u001b[0mcosts\u001b[0m \u001b[1;33m=\u001b[0m \u001b[1;33m[\u001b[0m\u001b[0ms\u001b[0m\u001b[1;33m.\u001b[0m\u001b[0mf\u001b[0m\u001b[1;33m(\u001b[0m\u001b[1;33m)\u001b[0m \u001b[1;32mfor\u001b[0m \u001b[0ms\u001b[0m \u001b[1;32min\u001b[0m \u001b[0mstates\u001b[0m\u001b[1;33m]\u001b[0m\u001b[1;33m\u001b[0m\u001b[1;33m\u001b[0m\u001b[0m\n\u001b[0;32m     10\u001b[0m \u001b[1;33m\u001b[0m\u001b[0m\n\u001b[1;32m---> 11\u001b[1;33m     \u001b[0mstate\u001b[0m\u001b[1;33m.\u001b[0m\u001b[0mmoves\u001b[0m \u001b[1;33m+=\u001b[0m \u001b[1;36m1\u001b[0m\u001b[1;33m\u001b[0m\u001b[1;33m\u001b[0m\u001b[0m\n\u001b[0m\u001b[0;32m     12\u001b[0m     \u001b[1;32mfor\u001b[0m \u001b[0mstate\u001b[0m \u001b[1;32min\u001b[0m \u001b[0mstates\u001b[0m\u001b[1;33m:\u001b[0m\u001b[1;33m\u001b[0m\u001b[1;33m\u001b[0m\u001b[0m\n\u001b[0;32m     13\u001b[0m         \u001b[1;32mif\u001b[0m \u001b[1;33m(\u001b[0m\u001b[0mstate\u001b[0m \u001b[1;32min\u001b[0m \u001b[0mclosed_queue\u001b[0m\u001b[1;33m)\u001b[0m \u001b[1;32mor\u001b[0m \u001b[1;33m(\u001b[0m\u001b[0mstate\u001b[0m \u001b[1;32min\u001b[0m \u001b[0mopen_queue\u001b[0m\u001b[1;33m)\u001b[0m\u001b[1;33m:\u001b[0m\u001b[1;33m\u001b[0m\u001b[1;33m\u001b[0m\u001b[0m\n",
      "\u001b[1;31mNameError\u001b[0m: name 'state' is not defined"
     ]
    }
   ],
   "source": [
    "while (not len(open_queue) == 0):\n",
    "    current = open_queue.pop(0)\n",
    "    if current.board == goal:\n",
    "        print(current)\n",
    "        print(\"탐색 성공\")\n",
    "        break\n",
    "\n",
    "    states = current.expand()\n",
    "    costs = [s.f() for s in states]\n",
    "\n",
    "    state.moves += 1\n",
    "    for state in states:\n",
    "        if (state in closed_queue) or (state in open_queue):\n",
    "            continue\n",
    "        else:\n",
    "            open_queue.append(state)\n",
    "            print(state.board, state.moves, state.f())\n",
    "    closed_queue.append(current)\n",
    "#         if state not in closed_queue and state not in open_queue:\n",
    "#             open_queue.append(state)\n",
    "    "
   ]
  },
  {
   "cell_type": "code",
   "execution_count": null,
   "metadata": {},
   "outputs": [],
   "source": []
  },
  {
   "cell_type": "code",
   "execution_count": null,
   "metadata": {},
   "outputs": [],
   "source": []
  }
 ],
 "metadata": {
  "kernelspec": {
   "display_name": "Python [conda env:ssu]",
   "language": "python",
   "name": "conda-env-ssu-py"
  },
  "language_info": {
   "codemirror_mode": {
    "name": "ipython",
    "version": 3
   },
   "file_extension": ".py",
   "mimetype": "text/x-python",
   "name": "python",
   "nbconvert_exporter": "python",
   "pygments_lexer": "ipython3",
   "version": "3.6.13"
  }
 },
 "nbformat": 4,
 "nbformat_minor": 4
}
